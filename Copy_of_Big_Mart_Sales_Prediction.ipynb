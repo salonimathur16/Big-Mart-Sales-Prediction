{
 "cells": [
  {
   "cell_type": "code",
   "execution_count": null,
   "metadata": {
    "collapsed": true
   },
   "outputs": [],
   "source": []
  },
  {
   "cell_type": "code",
   "execution_count": 125,
   "metadata": {
    "id": "7sIHaN1zjLI6"
   },
   "outputs": [],
   "source": [
    "import pandas as pd\n",
    "df1=pd.read_csv(r'C:\\Users\\vaibhav mathur\\Desktop\\Big mart sales\\train_v9rqX0R.csv') #loading the train set\n",
    "df2=pd.read_csv(r'C:\\Users\\vaibhav mathur\\Desktop\\Big mart sales\\test_AbJTz2l.csv')  #loading the test set"
   ]
  },
  {
   "cell_type": "code",
   "execution_count": 126,
   "metadata": {},
   "outputs": [
    {
     "data": {
      "text/plain": [
       "((8523, 12), (5681, 11))"
      ]
     },
     "execution_count": 126,
     "metadata": {},
     "output_type": "execute_result"
    }
   ],
   "source": [
    "df1.shape,df2.shape"
   ]
  },
  {
   "cell_type": "code",
   "execution_count": 127,
   "metadata": {
    "colab": {
     "base_uri": "https://localhost:8080/",
     "height": 216
    },
    "id": "k-apLbQLjo69",
    "outputId": "31214031-2307-4abd-bd85-2474c38af936"
   },
   "outputs": [
    {
     "data": {
      "text/html": [
       "<div>\n",
       "<style scoped>\n",
       "    .dataframe tbody tr th:only-of-type {\n",
       "        vertical-align: middle;\n",
       "    }\n",
       "\n",
       "    .dataframe tbody tr th {\n",
       "        vertical-align: top;\n",
       "    }\n",
       "\n",
       "    .dataframe thead th {\n",
       "        text-align: right;\n",
       "    }\n",
       "</style>\n",
       "<table border=\"1\" class=\"dataframe\">\n",
       "  <thead>\n",
       "    <tr style=\"text-align: right;\">\n",
       "      <th></th>\n",
       "      <th>Item_Identifier</th>\n",
       "      <th>Item_Weight</th>\n",
       "      <th>Item_Fat_Content</th>\n",
       "      <th>Item_Visibility</th>\n",
       "      <th>Item_Type</th>\n",
       "      <th>Item_MRP</th>\n",
       "      <th>Outlet_Identifier</th>\n",
       "      <th>Outlet_Establishment_Year</th>\n",
       "      <th>Outlet_Size</th>\n",
       "      <th>Outlet_Location_Type</th>\n",
       "      <th>Outlet_Type</th>\n",
       "      <th>Item_Outlet_Sales</th>\n",
       "    </tr>\n",
       "  </thead>\n",
       "  <tbody>\n",
       "    <tr>\n",
       "      <th>0</th>\n",
       "      <td>FDA15</td>\n",
       "      <td>9.300</td>\n",
       "      <td>Low Fat</td>\n",
       "      <td>0.016047</td>\n",
       "      <td>Dairy</td>\n",
       "      <td>249.8092</td>\n",
       "      <td>OUT049</td>\n",
       "      <td>1999</td>\n",
       "      <td>Medium</td>\n",
       "      <td>Tier 1</td>\n",
       "      <td>Supermarket Type1</td>\n",
       "      <td>3735.1380</td>\n",
       "    </tr>\n",
       "    <tr>\n",
       "      <th>1</th>\n",
       "      <td>DRC01</td>\n",
       "      <td>5.920</td>\n",
       "      <td>Regular</td>\n",
       "      <td>0.019278</td>\n",
       "      <td>Soft Drinks</td>\n",
       "      <td>48.2692</td>\n",
       "      <td>OUT018</td>\n",
       "      <td>2009</td>\n",
       "      <td>Medium</td>\n",
       "      <td>Tier 3</td>\n",
       "      <td>Supermarket Type2</td>\n",
       "      <td>443.4228</td>\n",
       "    </tr>\n",
       "    <tr>\n",
       "      <th>2</th>\n",
       "      <td>FDN15</td>\n",
       "      <td>17.500</td>\n",
       "      <td>Low Fat</td>\n",
       "      <td>0.016760</td>\n",
       "      <td>Meat</td>\n",
       "      <td>141.6180</td>\n",
       "      <td>OUT049</td>\n",
       "      <td>1999</td>\n",
       "      <td>Medium</td>\n",
       "      <td>Tier 1</td>\n",
       "      <td>Supermarket Type1</td>\n",
       "      <td>2097.2700</td>\n",
       "    </tr>\n",
       "    <tr>\n",
       "      <th>3</th>\n",
       "      <td>FDX07</td>\n",
       "      <td>19.200</td>\n",
       "      <td>Regular</td>\n",
       "      <td>0.000000</td>\n",
       "      <td>Fruits and Vegetables</td>\n",
       "      <td>182.0950</td>\n",
       "      <td>OUT010</td>\n",
       "      <td>1998</td>\n",
       "      <td>NaN</td>\n",
       "      <td>Tier 3</td>\n",
       "      <td>Grocery Store</td>\n",
       "      <td>732.3800</td>\n",
       "    </tr>\n",
       "    <tr>\n",
       "      <th>4</th>\n",
       "      <td>NCD19</td>\n",
       "      <td>8.930</td>\n",
       "      <td>Low Fat</td>\n",
       "      <td>0.000000</td>\n",
       "      <td>Household</td>\n",
       "      <td>53.8614</td>\n",
       "      <td>OUT013</td>\n",
       "      <td>1987</td>\n",
       "      <td>High</td>\n",
       "      <td>Tier 3</td>\n",
       "      <td>Supermarket Type1</td>\n",
       "      <td>994.7052</td>\n",
       "    </tr>\n",
       "    <tr>\n",
       "      <th>5</th>\n",
       "      <td>FDP36</td>\n",
       "      <td>10.395</td>\n",
       "      <td>Regular</td>\n",
       "      <td>0.000000</td>\n",
       "      <td>Baking Goods</td>\n",
       "      <td>51.4008</td>\n",
       "      <td>OUT018</td>\n",
       "      <td>2009</td>\n",
       "      <td>Medium</td>\n",
       "      <td>Tier 3</td>\n",
       "      <td>Supermarket Type2</td>\n",
       "      <td>556.6088</td>\n",
       "    </tr>\n",
       "    <tr>\n",
       "      <th>6</th>\n",
       "      <td>FDO10</td>\n",
       "      <td>13.650</td>\n",
       "      <td>Regular</td>\n",
       "      <td>0.012741</td>\n",
       "      <td>Snack Foods</td>\n",
       "      <td>57.6588</td>\n",
       "      <td>OUT013</td>\n",
       "      <td>1987</td>\n",
       "      <td>High</td>\n",
       "      <td>Tier 3</td>\n",
       "      <td>Supermarket Type1</td>\n",
       "      <td>343.5528</td>\n",
       "    </tr>\n",
       "    <tr>\n",
       "      <th>7</th>\n",
       "      <td>FDP10</td>\n",
       "      <td>NaN</td>\n",
       "      <td>Low Fat</td>\n",
       "      <td>0.127470</td>\n",
       "      <td>Snack Foods</td>\n",
       "      <td>107.7622</td>\n",
       "      <td>OUT027</td>\n",
       "      <td>1985</td>\n",
       "      <td>Medium</td>\n",
       "      <td>Tier 3</td>\n",
       "      <td>Supermarket Type3</td>\n",
       "      <td>4022.7636</td>\n",
       "    </tr>\n",
       "    <tr>\n",
       "      <th>8</th>\n",
       "      <td>FDH17</td>\n",
       "      <td>16.200</td>\n",
       "      <td>Regular</td>\n",
       "      <td>0.016687</td>\n",
       "      <td>Frozen Foods</td>\n",
       "      <td>96.9726</td>\n",
       "      <td>OUT045</td>\n",
       "      <td>2002</td>\n",
       "      <td>NaN</td>\n",
       "      <td>Tier 2</td>\n",
       "      <td>Supermarket Type1</td>\n",
       "      <td>1076.5986</td>\n",
       "    </tr>\n",
       "    <tr>\n",
       "      <th>9</th>\n",
       "      <td>FDU28</td>\n",
       "      <td>19.200</td>\n",
       "      <td>Regular</td>\n",
       "      <td>0.094450</td>\n",
       "      <td>Frozen Foods</td>\n",
       "      <td>187.8214</td>\n",
       "      <td>OUT017</td>\n",
       "      <td>2007</td>\n",
       "      <td>NaN</td>\n",
       "      <td>Tier 2</td>\n",
       "      <td>Supermarket Type1</td>\n",
       "      <td>4710.5350</td>\n",
       "    </tr>\n",
       "    <tr>\n",
       "      <th>10</th>\n",
       "      <td>FDY07</td>\n",
       "      <td>11.800</td>\n",
       "      <td>Low Fat</td>\n",
       "      <td>0.000000</td>\n",
       "      <td>Fruits and Vegetables</td>\n",
       "      <td>45.5402</td>\n",
       "      <td>OUT049</td>\n",
       "      <td>1999</td>\n",
       "      <td>Medium</td>\n",
       "      <td>Tier 1</td>\n",
       "      <td>Supermarket Type1</td>\n",
       "      <td>1516.0266</td>\n",
       "    </tr>\n",
       "    <tr>\n",
       "      <th>11</th>\n",
       "      <td>FDA03</td>\n",
       "      <td>18.500</td>\n",
       "      <td>Regular</td>\n",
       "      <td>0.045464</td>\n",
       "      <td>Dairy</td>\n",
       "      <td>144.1102</td>\n",
       "      <td>OUT046</td>\n",
       "      <td>1997</td>\n",
       "      <td>Small</td>\n",
       "      <td>Tier 1</td>\n",
       "      <td>Supermarket Type1</td>\n",
       "      <td>2187.1530</td>\n",
       "    </tr>\n",
       "    <tr>\n",
       "      <th>12</th>\n",
       "      <td>FDX32</td>\n",
       "      <td>15.100</td>\n",
       "      <td>Regular</td>\n",
       "      <td>0.100014</td>\n",
       "      <td>Fruits and Vegetables</td>\n",
       "      <td>145.4786</td>\n",
       "      <td>OUT049</td>\n",
       "      <td>1999</td>\n",
       "      <td>Medium</td>\n",
       "      <td>Tier 1</td>\n",
       "      <td>Supermarket Type1</td>\n",
       "      <td>1589.2646</td>\n",
       "    </tr>\n",
       "    <tr>\n",
       "      <th>13</th>\n",
       "      <td>FDS46</td>\n",
       "      <td>17.600</td>\n",
       "      <td>Regular</td>\n",
       "      <td>0.047257</td>\n",
       "      <td>Snack Foods</td>\n",
       "      <td>119.6782</td>\n",
       "      <td>OUT046</td>\n",
       "      <td>1997</td>\n",
       "      <td>Small</td>\n",
       "      <td>Tier 1</td>\n",
       "      <td>Supermarket Type1</td>\n",
       "      <td>2145.2076</td>\n",
       "    </tr>\n",
       "    <tr>\n",
       "      <th>14</th>\n",
       "      <td>FDF32</td>\n",
       "      <td>16.350</td>\n",
       "      <td>Low Fat</td>\n",
       "      <td>0.068024</td>\n",
       "      <td>Fruits and Vegetables</td>\n",
       "      <td>196.4426</td>\n",
       "      <td>OUT013</td>\n",
       "      <td>1987</td>\n",
       "      <td>High</td>\n",
       "      <td>Tier 3</td>\n",
       "      <td>Supermarket Type1</td>\n",
       "      <td>1977.4260</td>\n",
       "    </tr>\n",
       "    <tr>\n",
       "      <th>15</th>\n",
       "      <td>FDP49</td>\n",
       "      <td>9.000</td>\n",
       "      <td>Regular</td>\n",
       "      <td>0.069089</td>\n",
       "      <td>Breakfast</td>\n",
       "      <td>56.3614</td>\n",
       "      <td>OUT046</td>\n",
       "      <td>1997</td>\n",
       "      <td>Small</td>\n",
       "      <td>Tier 1</td>\n",
       "      <td>Supermarket Type1</td>\n",
       "      <td>1547.3192</td>\n",
       "    </tr>\n",
       "    <tr>\n",
       "      <th>16</th>\n",
       "      <td>NCB42</td>\n",
       "      <td>11.800</td>\n",
       "      <td>Low Fat</td>\n",
       "      <td>0.008596</td>\n",
       "      <td>Health and Hygiene</td>\n",
       "      <td>115.3492</td>\n",
       "      <td>OUT018</td>\n",
       "      <td>2009</td>\n",
       "      <td>Medium</td>\n",
       "      <td>Tier 3</td>\n",
       "      <td>Supermarket Type2</td>\n",
       "      <td>1621.8888</td>\n",
       "    </tr>\n",
       "    <tr>\n",
       "      <th>17</th>\n",
       "      <td>FDP49</td>\n",
       "      <td>9.000</td>\n",
       "      <td>Regular</td>\n",
       "      <td>0.069196</td>\n",
       "      <td>Breakfast</td>\n",
       "      <td>54.3614</td>\n",
       "      <td>OUT049</td>\n",
       "      <td>1999</td>\n",
       "      <td>Medium</td>\n",
       "      <td>Tier 1</td>\n",
       "      <td>Supermarket Type1</td>\n",
       "      <td>718.3982</td>\n",
       "    </tr>\n",
       "    <tr>\n",
       "      <th>18</th>\n",
       "      <td>DRI11</td>\n",
       "      <td>NaN</td>\n",
       "      <td>Low Fat</td>\n",
       "      <td>0.034238</td>\n",
       "      <td>Hard Drinks</td>\n",
       "      <td>113.2834</td>\n",
       "      <td>OUT027</td>\n",
       "      <td>1985</td>\n",
       "      <td>Medium</td>\n",
       "      <td>Tier 3</td>\n",
       "      <td>Supermarket Type3</td>\n",
       "      <td>2303.6680</td>\n",
       "    </tr>\n",
       "    <tr>\n",
       "      <th>19</th>\n",
       "      <td>FDU02</td>\n",
       "      <td>13.350</td>\n",
       "      <td>Low Fat</td>\n",
       "      <td>0.102492</td>\n",
       "      <td>Dairy</td>\n",
       "      <td>230.5352</td>\n",
       "      <td>OUT035</td>\n",
       "      <td>2004</td>\n",
       "      <td>Small</td>\n",
       "      <td>Tier 2</td>\n",
       "      <td>Supermarket Type1</td>\n",
       "      <td>2748.4224</td>\n",
       "    </tr>\n",
       "    <tr>\n",
       "      <th>20</th>\n",
       "      <td>FDN22</td>\n",
       "      <td>18.850</td>\n",
       "      <td>Regular</td>\n",
       "      <td>0.138190</td>\n",
       "      <td>Snack Foods</td>\n",
       "      <td>250.8724</td>\n",
       "      <td>OUT013</td>\n",
       "      <td>1987</td>\n",
       "      <td>High</td>\n",
       "      <td>Tier 3</td>\n",
       "      <td>Supermarket Type1</td>\n",
       "      <td>3775.0860</td>\n",
       "    </tr>\n",
       "    <tr>\n",
       "      <th>21</th>\n",
       "      <td>FDW12</td>\n",
       "      <td>NaN</td>\n",
       "      <td>Regular</td>\n",
       "      <td>0.035400</td>\n",
       "      <td>Baking Goods</td>\n",
       "      <td>144.5444</td>\n",
       "      <td>OUT027</td>\n",
       "      <td>1985</td>\n",
       "      <td>Medium</td>\n",
       "      <td>Tier 3</td>\n",
       "      <td>Supermarket Type3</td>\n",
       "      <td>4064.0432</td>\n",
       "    </tr>\n",
       "    <tr>\n",
       "      <th>22</th>\n",
       "      <td>NCB30</td>\n",
       "      <td>14.600</td>\n",
       "      <td>Low Fat</td>\n",
       "      <td>0.025698</td>\n",
       "      <td>Household</td>\n",
       "      <td>196.5084</td>\n",
       "      <td>OUT035</td>\n",
       "      <td>2004</td>\n",
       "      <td>Small</td>\n",
       "      <td>Tier 2</td>\n",
       "      <td>Supermarket Type1</td>\n",
       "      <td>1587.2672</td>\n",
       "    </tr>\n",
       "    <tr>\n",
       "      <th>23</th>\n",
       "      <td>FDC37</td>\n",
       "      <td>NaN</td>\n",
       "      <td>Low Fat</td>\n",
       "      <td>0.057557</td>\n",
       "      <td>Baking Goods</td>\n",
       "      <td>107.6938</td>\n",
       "      <td>OUT019</td>\n",
       "      <td>1985</td>\n",
       "      <td>Small</td>\n",
       "      <td>Tier 1</td>\n",
       "      <td>Grocery Store</td>\n",
       "      <td>214.3876</td>\n",
       "    </tr>\n",
       "    <tr>\n",
       "      <th>24</th>\n",
       "      <td>FDR28</td>\n",
       "      <td>13.850</td>\n",
       "      <td>Regular</td>\n",
       "      <td>0.025896</td>\n",
       "      <td>Frozen Foods</td>\n",
       "      <td>165.0210</td>\n",
       "      <td>OUT046</td>\n",
       "      <td>1997</td>\n",
       "      <td>Small</td>\n",
       "      <td>Tier 1</td>\n",
       "      <td>Supermarket Type1</td>\n",
       "      <td>4078.0250</td>\n",
       "    </tr>\n",
       "    <tr>\n",
       "      <th>25</th>\n",
       "      <td>NCD06</td>\n",
       "      <td>13.000</td>\n",
       "      <td>Low Fat</td>\n",
       "      <td>0.099887</td>\n",
       "      <td>Household</td>\n",
       "      <td>45.9060</td>\n",
       "      <td>OUT017</td>\n",
       "      <td>2007</td>\n",
       "      <td>NaN</td>\n",
       "      <td>Tier 2</td>\n",
       "      <td>Supermarket Type1</td>\n",
       "      <td>838.9080</td>\n",
       "    </tr>\n",
       "    <tr>\n",
       "      <th>26</th>\n",
       "      <td>FDV10</td>\n",
       "      <td>7.645</td>\n",
       "      <td>Regular</td>\n",
       "      <td>0.066693</td>\n",
       "      <td>Snack Foods</td>\n",
       "      <td>42.3112</td>\n",
       "      <td>OUT035</td>\n",
       "      <td>2004</td>\n",
       "      <td>Small</td>\n",
       "      <td>Tier 2</td>\n",
       "      <td>Supermarket Type1</td>\n",
       "      <td>1065.2800</td>\n",
       "    </tr>\n",
       "    <tr>\n",
       "      <th>27</th>\n",
       "      <td>DRJ59</td>\n",
       "      <td>11.650</td>\n",
       "      <td>low fat</td>\n",
       "      <td>0.019356</td>\n",
       "      <td>Hard Drinks</td>\n",
       "      <td>39.1164</td>\n",
       "      <td>OUT013</td>\n",
       "      <td>1987</td>\n",
       "      <td>High</td>\n",
       "      <td>Tier 3</td>\n",
       "      <td>Supermarket Type1</td>\n",
       "      <td>308.9312</td>\n",
       "    </tr>\n",
       "    <tr>\n",
       "      <th>28</th>\n",
       "      <td>FDE51</td>\n",
       "      <td>5.925</td>\n",
       "      <td>Regular</td>\n",
       "      <td>0.161467</td>\n",
       "      <td>Dairy</td>\n",
       "      <td>45.5086</td>\n",
       "      <td>OUT010</td>\n",
       "      <td>1998</td>\n",
       "      <td>NaN</td>\n",
       "      <td>Tier 3</td>\n",
       "      <td>Grocery Store</td>\n",
       "      <td>178.4344</td>\n",
       "    </tr>\n",
       "    <tr>\n",
       "      <th>29</th>\n",
       "      <td>FDC14</td>\n",
       "      <td>NaN</td>\n",
       "      <td>Regular</td>\n",
       "      <td>0.072222</td>\n",
       "      <td>Canned</td>\n",
       "      <td>43.6454</td>\n",
       "      <td>OUT019</td>\n",
       "      <td>1985</td>\n",
       "      <td>Small</td>\n",
       "      <td>Tier 1</td>\n",
       "      <td>Grocery Store</td>\n",
       "      <td>125.8362</td>\n",
       "    </tr>\n",
       "  </tbody>\n",
       "</table>\n",
       "</div>"
      ],
      "text/plain": [
       "   Item_Identifier  Item_Weight Item_Fat_Content  Item_Visibility  \\\n",
       "0            FDA15        9.300          Low Fat         0.016047   \n",
       "1            DRC01        5.920          Regular         0.019278   \n",
       "2            FDN15       17.500          Low Fat         0.016760   \n",
       "3            FDX07       19.200          Regular         0.000000   \n",
       "4            NCD19        8.930          Low Fat         0.000000   \n",
       "5            FDP36       10.395          Regular         0.000000   \n",
       "6            FDO10       13.650          Regular         0.012741   \n",
       "7            FDP10          NaN          Low Fat         0.127470   \n",
       "8            FDH17       16.200          Regular         0.016687   \n",
       "9            FDU28       19.200          Regular         0.094450   \n",
       "10           FDY07       11.800          Low Fat         0.000000   \n",
       "11           FDA03       18.500          Regular         0.045464   \n",
       "12           FDX32       15.100          Regular         0.100014   \n",
       "13           FDS46       17.600          Regular         0.047257   \n",
       "14           FDF32       16.350          Low Fat         0.068024   \n",
       "15           FDP49        9.000          Regular         0.069089   \n",
       "16           NCB42       11.800          Low Fat         0.008596   \n",
       "17           FDP49        9.000          Regular         0.069196   \n",
       "18           DRI11          NaN          Low Fat         0.034238   \n",
       "19           FDU02       13.350          Low Fat         0.102492   \n",
       "20           FDN22       18.850          Regular         0.138190   \n",
       "21           FDW12          NaN          Regular         0.035400   \n",
       "22           NCB30       14.600          Low Fat         0.025698   \n",
       "23           FDC37          NaN          Low Fat         0.057557   \n",
       "24           FDR28       13.850          Regular         0.025896   \n",
       "25           NCD06       13.000          Low Fat         0.099887   \n",
       "26           FDV10        7.645          Regular         0.066693   \n",
       "27           DRJ59       11.650          low fat         0.019356   \n",
       "28           FDE51        5.925          Regular         0.161467   \n",
       "29           FDC14          NaN          Regular         0.072222   \n",
       "\n",
       "                Item_Type  Item_MRP Outlet_Identifier  \\\n",
       "0                   Dairy  249.8092            OUT049   \n",
       "1             Soft Drinks   48.2692            OUT018   \n",
       "2                    Meat  141.6180            OUT049   \n",
       "3   Fruits and Vegetables  182.0950            OUT010   \n",
       "4               Household   53.8614            OUT013   \n",
       "5            Baking Goods   51.4008            OUT018   \n",
       "6             Snack Foods   57.6588            OUT013   \n",
       "7             Snack Foods  107.7622            OUT027   \n",
       "8            Frozen Foods   96.9726            OUT045   \n",
       "9            Frozen Foods  187.8214            OUT017   \n",
       "10  Fruits and Vegetables   45.5402            OUT049   \n",
       "11                  Dairy  144.1102            OUT046   \n",
       "12  Fruits and Vegetables  145.4786            OUT049   \n",
       "13            Snack Foods  119.6782            OUT046   \n",
       "14  Fruits and Vegetables  196.4426            OUT013   \n",
       "15              Breakfast   56.3614            OUT046   \n",
       "16     Health and Hygiene  115.3492            OUT018   \n",
       "17              Breakfast   54.3614            OUT049   \n",
       "18            Hard Drinks  113.2834            OUT027   \n",
       "19                  Dairy  230.5352            OUT035   \n",
       "20            Snack Foods  250.8724            OUT013   \n",
       "21           Baking Goods  144.5444            OUT027   \n",
       "22              Household  196.5084            OUT035   \n",
       "23           Baking Goods  107.6938            OUT019   \n",
       "24           Frozen Foods  165.0210            OUT046   \n",
       "25              Household   45.9060            OUT017   \n",
       "26            Snack Foods   42.3112            OUT035   \n",
       "27            Hard Drinks   39.1164            OUT013   \n",
       "28                  Dairy   45.5086            OUT010   \n",
       "29                 Canned   43.6454            OUT019   \n",
       "\n",
       "    Outlet_Establishment_Year Outlet_Size Outlet_Location_Type  \\\n",
       "0                        1999      Medium               Tier 1   \n",
       "1                        2009      Medium               Tier 3   \n",
       "2                        1999      Medium               Tier 1   \n",
       "3                        1998         NaN               Tier 3   \n",
       "4                        1987        High               Tier 3   \n",
       "5                        2009      Medium               Tier 3   \n",
       "6                        1987        High               Tier 3   \n",
       "7                        1985      Medium               Tier 3   \n",
       "8                        2002         NaN               Tier 2   \n",
       "9                        2007         NaN               Tier 2   \n",
       "10                       1999      Medium               Tier 1   \n",
       "11                       1997       Small               Tier 1   \n",
       "12                       1999      Medium               Tier 1   \n",
       "13                       1997       Small               Tier 1   \n",
       "14                       1987        High               Tier 3   \n",
       "15                       1997       Small               Tier 1   \n",
       "16                       2009      Medium               Tier 3   \n",
       "17                       1999      Medium               Tier 1   \n",
       "18                       1985      Medium               Tier 3   \n",
       "19                       2004       Small               Tier 2   \n",
       "20                       1987        High               Tier 3   \n",
       "21                       1985      Medium               Tier 3   \n",
       "22                       2004       Small               Tier 2   \n",
       "23                       1985       Small               Tier 1   \n",
       "24                       1997       Small               Tier 1   \n",
       "25                       2007         NaN               Tier 2   \n",
       "26                       2004       Small               Tier 2   \n",
       "27                       1987        High               Tier 3   \n",
       "28                       1998         NaN               Tier 3   \n",
       "29                       1985       Small               Tier 1   \n",
       "\n",
       "          Outlet_Type  Item_Outlet_Sales  \n",
       "0   Supermarket Type1          3735.1380  \n",
       "1   Supermarket Type2           443.4228  \n",
       "2   Supermarket Type1          2097.2700  \n",
       "3       Grocery Store           732.3800  \n",
       "4   Supermarket Type1           994.7052  \n",
       "5   Supermarket Type2           556.6088  \n",
       "6   Supermarket Type1           343.5528  \n",
       "7   Supermarket Type3          4022.7636  \n",
       "8   Supermarket Type1          1076.5986  \n",
       "9   Supermarket Type1          4710.5350  \n",
       "10  Supermarket Type1          1516.0266  \n",
       "11  Supermarket Type1          2187.1530  \n",
       "12  Supermarket Type1          1589.2646  \n",
       "13  Supermarket Type1          2145.2076  \n",
       "14  Supermarket Type1          1977.4260  \n",
       "15  Supermarket Type1          1547.3192  \n",
       "16  Supermarket Type2          1621.8888  \n",
       "17  Supermarket Type1           718.3982  \n",
       "18  Supermarket Type3          2303.6680  \n",
       "19  Supermarket Type1          2748.4224  \n",
       "20  Supermarket Type1          3775.0860  \n",
       "21  Supermarket Type3          4064.0432  \n",
       "22  Supermarket Type1          1587.2672  \n",
       "23      Grocery Store           214.3876  \n",
       "24  Supermarket Type1          4078.0250  \n",
       "25  Supermarket Type1           838.9080  \n",
       "26  Supermarket Type1          1065.2800  \n",
       "27  Supermarket Type1           308.9312  \n",
       "28      Grocery Store           178.4344  \n",
       "29      Grocery Store           125.8362  "
      ]
     },
     "execution_count": 127,
     "metadata": {},
     "output_type": "execute_result"
    }
   ],
   "source": [
    "df1.head(30)"
   ]
  },
  {
   "cell_type": "code",
   "execution_count": 128,
   "metadata": {},
   "outputs": [
    {
     "data": {
      "text/plain": [
       "Index(['Item_Identifier', 'Item_Weight', 'Item_Fat_Content', 'Item_Visibility',\n",
       "       'Item_Type', 'Item_MRP', 'Outlet_Identifier',\n",
       "       'Outlet_Establishment_Year', 'Outlet_Size', 'Outlet_Location_Type',\n",
       "       'Outlet_Type', 'Item_Outlet_Sales'],\n",
       "      dtype='object')"
      ]
     },
     "execution_count": 128,
     "metadata": {},
     "output_type": "execute_result"
    }
   ],
   "source": [
    "df1.columns"
   ]
  },
  {
   "cell_type": "code",
   "execution_count": 129,
   "metadata": {
    "colab": {
     "base_uri": "https://localhost:8080/",
     "height": 256
    },
    "id": "kcTh_VSskAGl",
    "outputId": "716c5ded-ceb3-4b24-ec9a-6a1de3588e52"
   },
   "outputs": [
    {
     "data": {
      "text/plain": [
       "Item_Identifier                 0\n",
       "Item_Weight                  1463\n",
       "Item_Fat_Content                0\n",
       "Item_Visibility                 0\n",
       "Item_Type                       0\n",
       "Item_MRP                        0\n",
       "Outlet_Identifier               0\n",
       "Outlet_Establishment_Year       0\n",
       "Outlet_Size                  2410\n",
       "Outlet_Location_Type            0\n",
       "Outlet_Type                     0\n",
       "Item_Outlet_Sales               0\n",
       "dtype: int64"
      ]
     },
     "execution_count": 129,
     "metadata": {},
     "output_type": "execute_result"
    }
   ],
   "source": [
    "# Checking Null values in Train Set\n",
    "df1.isnull().sum()"
   ]
  },
  {
   "cell_type": "code",
   "execution_count": 130,
   "metadata": {
    "colab": {
     "base_uri": "https://localhost:8080/",
     "height": 237
    },
    "id": "Bt13zF_ekfCH",
    "outputId": "3f5b1253-ec75-492e-c56c-6525e4828f57"
   },
   "outputs": [
    {
     "data": {
      "text/plain": [
       "Item_Identifier                 0\n",
       "Item_Weight                   976\n",
       "Item_Fat_Content                0\n",
       "Item_Visibility                 0\n",
       "Item_Type                       0\n",
       "Item_MRP                        0\n",
       "Outlet_Identifier               0\n",
       "Outlet_Establishment_Year       0\n",
       "Outlet_Size                  1606\n",
       "Outlet_Location_Type            0\n",
       "Outlet_Type                     0\n",
       "dtype: int64"
      ]
     },
     "execution_count": 130,
     "metadata": {},
     "output_type": "execute_result"
    }
   ],
   "source": [
    "# Checking Null values in Test Set\n",
    "df2.isnull().sum()"
   ]
  },
  {
   "cell_type": "code",
   "execution_count": 131,
   "metadata": {},
   "outputs": [],
   "source": [
    "group_mean_weight = df1.pivot_table(index = [\"Item_Type\"], values = \"Item_Weight\", aggfunc = [np.mean])\n",
    "mean_weight = group_mean_weight.iloc[:,[0][0]]\n",
    "def missing_value(cols):\n",
    "    item_type = cols[0]\n",
    "    item_weight =cols[1]\n",
    "    if pd.isnull(item_weight):\n",
    "        if item_type == \"Baking Goods\":\n",
    "            return 12.277\n",
    "        elif item_type == \"Breads\":\n",
    "            return 11.347\n",
    "        elif item_type == \"Breakfast\":\n",
    "            return 12.768\n",
    "        elif item_type == \"Canned\":\n",
    "            return 12.30\n",
    "        elif item_type == \"Dairy\":\n",
    "            return 13.42\n",
    "        elif item_type == \"Frozen Foods\":\n",
    "            return  12.867061\n",
    "        elif item_type == \"Fruits and Vegetables\":\n",
    "            return 13.224769\n",
    "        elif item_type == \"Hard Drinks\":\n",
    "            return 11.400328\n",
    "        elif item_type == \"Health and Hygiene\":\n",
    "            return 13.142314\n",
    "        elif item_type == \"Household\":\n",
    "            return 13.384736\n",
    "        elif item_type == \"Meat\":\n",
    "            return 12.817344\n",
    "        elif item_type == \"Others\":\n",
    "            return 13.853285\n",
    "        elif item_type == \"Seafood\":\n",
    "            return 12.552843\n",
    "        elif item_type == \"Snack Foods\":\n",
    "            return 12.987880\n",
    "        elif item_type == \"Soft Drinks\":\n",
    "            return 11.847460\n",
    "        elif item_type == \"Starchy Foods\":\n",
    "            return 13.690731\n",
    "    return item_weight   \n",
    "        "
   ]
  },
  {
   "cell_type": "code",
   "execution_count": 132,
   "metadata": {
    "collapsed": true
   },
   "outputs": [],
   "source": [
    "df1[\"Item_Weight\"] = df1[[\"Item_Type\",\"Item_Weight\"]].apply(missing_value, axis = 1)"
   ]
  },
  {
   "cell_type": "code",
   "execution_count": 133,
   "metadata": {},
   "outputs": [
    {
     "data": {
      "text/plain": [
       "Item_Type\n",
       "Baking Goods             12.272418\n",
       "Breads                   10.866799\n",
       "Breakfast                13.759603\n",
       "Canned                   12.393565\n",
       "Dairy                    12.955040\n",
       "Frozen Foods             12.101543\n",
       "Fruits and Vegetables    13.146659\n",
       "Hard Drinks              11.844417\n",
       "Health and Hygiene       13.216929\n",
       "Household                13.270504\n",
       "Meat                     12.702148\n",
       "Others                   14.009725\n",
       "Seafood                  13.241136\n",
       "Snack Foods              12.684256\n",
       "Soft Drinks              11.691965\n",
       "Starchy Foods            13.618247\n",
       "Name: (mean, Item_Weight), dtype: float64"
      ]
     },
     "execution_count": 133,
     "metadata": {},
     "output_type": "execute_result"
    }
   ],
   "source": [
    "group_mean_weight = df2.pivot_table(index = [\"Item_Type\"], values = \"Item_Weight\", aggfunc = [np.mean])\n",
    "mean_weight = group_mean_weight.iloc[:,[0][0]]\n",
    "mean_weight"
   ]
  },
  {
   "cell_type": "code",
   "execution_count": 134,
   "metadata": {
    "collapsed": true
   },
   "outputs": [],
   "source": [
    "def missing_value(cols):\n",
    "    item_type = cols[0]\n",
    "    item_weight =cols[1]\n",
    "    if pd.isnull(item_weight):\n",
    "        if item_type == \"Baking Goods\":\n",
    "            return 12.272\n",
    "        elif item_type == \"Breads\":\n",
    "            return 10.867\n",
    "        elif item_type == \"Breakfast\":\n",
    "            return 13.759\n",
    "        elif item_type == \"Canned\":\n",
    "            return 12.394\n",
    "        elif item_type == \"Dairy\":\n",
    "            return 12.955\n",
    "        elif item_type == \"Frozen Foods\":\n",
    "            return  12.101\n",
    "        elif item_type == \"Fruits and Vegetables\":\n",
    "            return 13.147\n",
    "        elif item_type == \"Hard Drinks\":\n",
    "            return 11.844\n",
    "        elif item_type == \"Health and Hygiene\":\n",
    "            return 13.217\n",
    "        elif item_type == \"Household\":\n",
    "            return 13.270\n",
    "        elif item_type == \"Meat\":\n",
    "            return 12.702\n",
    "        elif item_type == \"Others\":\n",
    "            return 14.009\n",
    "        elif item_type == \"Seafood\":\n",
    "            return 13.241\n",
    "        elif item_type == \"Snack Foods\":\n",
    "            return 12.684\n",
    "        elif item_type == \"Soft Drinks\":\n",
    "            return 11.691\n",
    "        elif item_type == \"Starchy Foods\":\n",
    "            return 13.618\n",
    "    return item_weight   \n",
    "        "
   ]
  },
  {
   "cell_type": "code",
   "execution_count": 135,
   "metadata": {},
   "outputs": [],
   "source": [
    "df2[\"Item_Weight\"] = df2[[\"Item_Type\",\"Item_Weight\"]].apply(missing_value, axis = 1)"
   ]
  },
  {
   "cell_type": "code",
   "execution_count": 136,
   "metadata": {
    "collapsed": true,
    "id": "smVao9LEkqhM"
   },
   "outputs": [],
   "source": [
    "#Filling the Null values in 'Item_Weight' column with the average weight \n",
    "\n",
    "\n",
    "#Filling the Null values in 'Outlet_Size' column with \"Unknown\"\n",
    "# df1['Outlet_Size'].fillna(value='Unknown',inplace=True)\n",
    "# df2['Outlet_Size'].fillna(value='Unknown',inplace=True)"
   ]
  },
  {
   "cell_type": "code",
   "execution_count": 137,
   "metadata": {},
   "outputs": [
    {
     "name": "stdout",
     "output_type": "stream",
     "text": [
      "Mode for each Outlet_Type:\n",
      "Outlet_Type Grocery Store Supermarket Type1 Supermarket Type2  \\\n",
      "Outlet_Size         Small             Small            Medium   \n",
      "\n",
      "Outlet_Type Supermarket Type3  \n",
      "Outlet_Size            Medium  \n"
     ]
    }
   ],
   "source": [
    "from scipy.stats import mode\n",
    "\n",
    "#Determing the mode for each\n",
    "outlet_size_mode = df1.pivot_table(values='Outlet_Size', columns='Outlet_Type',aggfunc=(lambda x:mode(x).mode[0]) )\n",
    "print ('Mode for each Outlet_Type:')\n",
    "print (outlet_size_mode)\n",
    "\n",
    "#Get a boolean variable specifying missing Item_Weight values\n",
    "miss_bool = df1['Outlet_Size'].isnull() \n",
    "df1.loc[miss_bool,'Outlet_Size'] = df1.loc[miss_bool,'Outlet_Type'].apply(lambda x: outlet_size_mode[x])"
   ]
  },
  {
   "cell_type": "code",
   "execution_count": 182,
   "metadata": {},
   "outputs": [
    {
     "data": {
      "text/plain": [
       "Small     4798\n",
       "Medium    2793\n",
       "High       932\n",
       "Name: Outlet_Size, dtype: int64"
      ]
     },
     "execution_count": 182,
     "metadata": {},
     "output_type": "execute_result"
    }
   ],
   "source": [
    "df1['Outlet_Size'].value_counts()"
   ]
  },
  {
   "cell_type": "code",
   "execution_count": 138,
   "metadata": {},
   "outputs": [
    {
     "name": "stdout",
     "output_type": "stream",
     "text": [
      "Mode for each Outlet_Type:\n",
      "Outlet_Type Grocery Store Supermarket Type1 Supermarket Type2  \\\n",
      "Outlet_Size         Small             Small            Medium   \n",
      "\n",
      "Outlet_Type Supermarket Type3  \n",
      "Outlet_Size            Medium  \n"
     ]
    }
   ],
   "source": [
    "outlet_size_mode = df2.pivot_table(values='Outlet_Size', columns='Outlet_Type',aggfunc=(lambda x:mode(x).mode[0]) )\n",
    "print ('Mode for each Outlet_Type:')\n",
    "print (outlet_size_mode)\n",
    "\n",
    "#Get a boolean variable specifying missing Item_Weight values\n",
    "miss_bool = df2['Outlet_Size'].isnull() \n",
    "df2.loc[miss_bool,'Outlet_Size'] = df2.loc[miss_bool,'Outlet_Type'].apply(lambda x: outlet_size_mode[x])"
   ]
  },
  {
   "cell_type": "code",
   "execution_count": 195,
   "metadata": {
    "colab": {
     "base_uri": "https://localhost:8080/",
     "height": 256
    },
    "id": "KDXRTgxbnQ8O",
    "outputId": "f6ceede1-3764-458a-d6ad-9dfe56297028"
   },
   "outputs": [
    {
     "data": {
      "text/plain": [
       "Item_Identifier              0\n",
       "Item_Weight                  0\n",
       "Item_Fat_Content             0\n",
       "Item_Visibility              0\n",
       "Item_Type                    0\n",
       "Item_MRP                     0\n",
       "Outlet_Identifier            0\n",
       "Outlet_Establishment_Year    0\n",
       "Outlet_Size                  0\n",
       "Outlet_Location_Type         0\n",
       "Outlet_Type                  0\n",
       "Item_Outlet_Sales            0\n",
       "Years_of_Operation           0\n",
       "dtype: int64"
      ]
     },
     "execution_count": 195,
     "metadata": {},
     "output_type": "execute_result"
    }
   ],
   "source": [
    "#Checking the Null values in Train set\n",
    "df1.isnull().sum()"
   ]
  },
  {
   "cell_type": "code",
   "execution_count": 140,
   "metadata": {
    "colab": {
     "base_uri": "https://localhost:8080/",
     "height": 237
    },
    "id": "zZwaOI6Tn-w5",
    "outputId": "b536c509-4152-4bea-ba73-f12d325e987e"
   },
   "outputs": [
    {
     "data": {
      "text/plain": [
       "Item_Identifier              0\n",
       "Item_Weight                  0\n",
       "Item_Fat_Content             0\n",
       "Item_Visibility              0\n",
       "Item_Type                    0\n",
       "Item_MRP                     0\n",
       "Outlet_Identifier            0\n",
       "Outlet_Establishment_Year    0\n",
       "Outlet_Size                  0\n",
       "Outlet_Location_Type         0\n",
       "Outlet_Type                  0\n",
       "dtype: int64"
      ]
     },
     "execution_count": 140,
     "metadata": {},
     "output_type": "execute_result"
    }
   ],
   "source": [
    "#Checking the Null values in Test set\n",
    "df2.isnull().sum()"
   ]
  },
  {
   "cell_type": "code",
   "execution_count": 196,
   "metadata": {
    "colab": {
     "base_uri": "https://localhost:8080/",
     "height": 727
    },
    "id": "txnDsh-5sRyX",
    "outputId": "a4135594-d838-450e-c6f7-3fd6ebcd6111"
   },
   "outputs": [
    {
     "data": {
      "image/png": "[encoded data removed]",
      "text/plain": [
       "<Figure size 360x360 with 1 Axes>"
      ]
     },
     "metadata": {},
     "output_type": "display_data"
    },
    {
     "name": "stdout",
     "output_type": "stream",
     "text": [
      "Item_Type:\n",
      " Foods              6125\n",
      "Non Consumables    1599\n",
      "Drinks              799\n",
      "Name: Item_Type, dtype: int64\n"
     ]
    }
   ],
   "source": [
    "df1['Item_Type'].value_counts()\n",
    "import numpy as np\n",
    "import matplotlib.pyplot as plt\n",
    "plt.bar(df1['Item_Type'].value_counts().index, df1['Item_Type'].value_counts(), width=0.5, bottom=None, align='center', data=df1)\n",
    "plt.title('Item_Type Distribution')\n",
    "plt.xticks(rotation='vertical')\n",
    "plt.xlabel('Item_Type')\n",
    "plt.ylabel('Frequency')\n",
    "plt.show()\n",
    "print('Item_Type:\\n',df1['Item_Type'].value_counts())"
   ]
  },
  {
   "cell_type": "code",
   "execution_count": 142,
   "metadata": {
    "collapsed": true,
    "id": "DtAG-MDmoi3n"
   },
   "outputs": [],
   "source": [
    "# Let's categorize 'Item_Type' into 'Non consumables', 'Drinks' and 'Foods' according to the 'Item_Identifier'\n",
    "def item_identify(cols):\n",
    "  item_id=cols[0]\n",
    "  item_type=cols[1]\n",
    "  \n",
    "  if item_id[:2] == 'NC':\n",
    "    return 'Non Consumables'\n",
    "  elif item_id[:2] == 'DR':\n",
    "    return 'Drinks'\n",
    "  else:\n",
    "    return 'Foods'"
   ]
  },
  {
   "cell_type": "code",
   "execution_count": 143,
   "metadata": {
    "collapsed": true,
    "id": "02dLOWnDnuJ6"
   },
   "outputs": [],
   "source": [
    "df1['Item_Type']=df1[['Item_Identifier','Item_Type']].apply(item_identify,axis=1)\n",
    "df2['Item_Type']=df2[['Item_Identifier','Item_Type']].apply(item_identify,axis=1)"
   ]
  },
  {
   "cell_type": "code",
   "execution_count": 144,
   "metadata": {
    "colab": {
     "base_uri": "https://localhost:8080/",
     "height": 388
    },
    "id": "meO8duRgrjBi",
    "outputId": "308d59fe-a58e-4355-93c1-c383cb54f13d"
   },
   "outputs": [
    {
     "name": "stdout",
     "output_type": "stream",
     "text": [
      "Item_Type:\n",
      " Foods              6125\n",
      "Non Consumables    1599\n",
      "Drinks              799\n",
      "Name: Item_Type, dtype: int64\n"
     ]
    }
   ],
   "source": [
    "df1['Item_Type'].value_counts()\n",
    "import numpy as np\n",
    "import matplotlib.pyplot as plt\n",
    "plt.bar(df1['Item_Type'].value_counts().index, df1['Item_Type'].value_counts(), width=0.5, bottom=None, align='center', data=df1)\n",
    "plt.title('Item_Type Distribution')\n",
    "#plt.xticks(rotation='vertical')\n",
    "plt.xlabel('Item_Type')\n",
    "plt.ylabel('Frequency')\n",
    "print('Item_Type:\\n',df1['Item_Type'].value_counts())"
   ]
  },
  {
   "cell_type": "code",
   "execution_count": 145,
   "metadata": {
    "colab": {
     "base_uri": "https://localhost:8080/",
     "height": 425
    },
    "id": "tP47jncxoLQW",
    "outputId": "c4d7026d-ddb6-4f43-abe4-efe36f0a2fa6"
   },
   "outputs": [
    {
     "name": "stdout",
     "output_type": "stream",
     "text": [
      "Item_Fat_Content:\n",
      " Low Fat    5089\n",
      "Regular    2889\n",
      "LF          316\n",
      "reg         117\n",
      "low fat     112\n",
      "Name: Item_Fat_Content, dtype: int64\n"
     ]
    }
   ],
   "source": [
    "import numpy as np\n",
    "import matplotlib.pyplot as plt\n",
    "plt.bar(df1['Item_Fat_Content'].value_counts().index, df1['Item_Fat_Content'].value_counts(), width=0.5, bottom=None, align='center', data=df1)\n",
    "plt.title('Item_Fat_Content Distribution')\n",
    "plt.xlabel('Item_Fat_Content')\n",
    "plt.ylabel('Frequency')\n",
    "print('Item_Fat_Content:\\n',df1['Item_Fat_Content'].value_counts())\n",
    "#df1['Item_Fat_Content'].value_counts()"
   ]
  },
  {
   "cell_type": "code",
   "execution_count": 146,
   "metadata": {
    "collapsed": true,
    "id": "STQtuaWUq1S_"
   },
   "outputs": [],
   "source": [
    "# From the above graph we can see that there are actually two classes in 'Item_Fat_Content'. But some of the items are non consumables.  \n",
    "def item_fat(cols):\n",
    "  fat=cols[0]\n",
    "  typ=cols[1]\n",
    "  \n",
    "  if (fat=='Low Fat' or fat=='LF' or fat=='low fat') and (typ=='Foods' or typ=='Drinks'):\n",
    "    return 'Low Fat'\n",
    "  elif (fat=='Regular' or fat=='reg') and (typ=='Foods' or typ=='Drinks'):\n",
    "    return 'Regular'\n",
    "  else:\n",
    "    return 'Non Edible'\n",
    "    "
   ]
  },
  {
   "cell_type": "code",
   "execution_count": 147,
   "metadata": {
    "collapsed": true,
    "id": "jJD1elSTrPLb"
   },
   "outputs": [],
   "source": [
    "df1['Item_Fat_Content']=df1[['Item_Fat_Content','Item_Type']].apply(item_fat,axis=1)\n",
    "df2['Item_Fat_Content']=df2[['Item_Fat_Content','Item_Type']].apply(item_fat,axis=1)"
   ]
  },
  {
   "cell_type": "code",
   "execution_count": 197,
   "metadata": {
    "colab": {
     "base_uri": "https://localhost:8080/",
     "height": 388
    },
    "id": "SZ1Gy63gsIL8",
    "outputId": "392d9d79-2754-40e5-930d-1a7b8e0c80ae"
   },
   "outputs": [
    {
     "data": {
      "image/png": "[encoded data removed]",
      "text/plain": [
       "<Figure size 360x360 with 1 Axes>"
      ]
     },
     "metadata": {},
     "output_type": "display_data"
    },
    {
     "name": "stdout",
     "output_type": "stream",
     "text": [
      "Item_Fat_Content:\n",
      " Low Fat       3918\n",
      "Regular       3006\n",
      "Non Edible    1599\n",
      "Name: Item_Fat_Content, dtype: int64\n"
     ]
    }
   ],
   "source": [
    "import numpy as np\n",
    "import matplotlib.pyplot as plt\n",
    "plt.bar(df1['Item_Fat_Content'].unique(), df1['Item_Fat_Content'].value_counts(), width=0.5, bottom=None, align='center', data=df1)\n",
    "plt.title('Item_Fat_Content Distribution')\n",
    "plt.xlabel('Item_Fat_Content')\n",
    "plt.ylabel('Frequency')\n",
    "plt.show()\n",
    "print('Item_Fat_Content:\\n',df1['Item_Fat_Content'].value_counts())"
   ]
  },
  {
   "cell_type": "code",
   "execution_count": 149,
   "metadata": {
    "colab": {
     "base_uri": "https://localhost:8080/",
     "height": 314
    },
    "id": "V0x4-38rvnn3",
    "outputId": "0d76a0a1-071a-4c75-8c8d-8710c7bc8f49"
   },
   "outputs": [
    {
     "data": {
      "text/plain": [
       "Text(0, 0.5, 'Frequency')"
      ]
     },
     "execution_count": 149,
     "metadata": {},
     "output_type": "execute_result"
    }
   ],
   "source": [
    "df1['Outlet_Size'].value_counts()\n",
    "import numpy as np\n",
    "import matplotlib.pyplot as plt\n",
    "plt.bar(df1['Outlet_Size'].value_counts().index, df1['Outlet_Size'].value_counts(), width=0.5, bottom=None, align='center', data=df1)\n",
    "plt.title('Outlet_Size')\n",
    "#plt.xticks(rotation='vertical')\n",
    "plt.xlabel('Outlet_Size')\n",
    "plt.ylabel('Frequency')"
   ]
  },
  {
   "cell_type": "code",
   "execution_count": 150,
   "metadata": {
    "colab": {
     "base_uri": "https://localhost:8080/",
     "height": 314
    },
    "id": "eSv1S9lEtYDM",
    "outputId": "c259d8af-bec4-431a-d053-f4c8ee50554f"
   },
   "outputs": [
    {
     "data": {
      "text/plain": [
       "Text(0, 0.5, 'Frequency')"
      ]
     },
     "execution_count": 150,
     "metadata": {},
     "output_type": "execute_result"
    }
   ],
   "source": [
    "df1['Outlet_Location_Type'].value_counts()\n",
    "import numpy as np\n",
    "import matplotlib.pyplot as plt\n",
    "plt.bar(df1['Outlet_Location_Type'].value_counts().index, df1['Outlet_Location_Type'].value_counts(), width=0.5, bottom=None, align='center', data=df1)\n",
    "plt.title('Outlet_Location_Type Distribution')\n",
    "#plt.xticks(rotation='vertical')\n",
    "plt.xlabel('Outlet_Location_Type')\n",
    "plt.ylabel('Frequency')"
   ]
  },
  {
   "cell_type": "code",
   "execution_count": 151,
   "metadata": {
    "colab": {
     "base_uri": "https://localhost:8080/",
     "height": 403
    },
    "id": "ubaaqOJ3wMWc",
    "outputId": "4d018b8b-60fc-4595-9121-5b0e7e5af039"
   },
   "outputs": [
    {
     "data": {
      "text/plain": [
       "Text(0, 0.5, 'Frequency')"
      ]
     },
     "execution_count": 151,
     "metadata": {},
     "output_type": "execute_result"
    }
   ],
   "source": [
    "df1['Outlet_Type'].value_counts()\n",
    "import numpy as np\n",
    "import matplotlib.pyplot as plt\n",
    "plt.bar(df1['Outlet_Type'].value_counts().index, df1['Outlet_Type'].value_counts(), width=0.5, bottom=None, align='center', data=df1)\n",
    "plt.title('Outlet_Type')\n",
    "plt.xticks(rotation='vertical')\n",
    "plt.xlabel('Outlet_Type')\n",
    "plt.ylabel('Frequency')"
   ]
  },
  {
   "cell_type": "code",
   "execution_count": 152,
   "metadata": {
    "colab": {
     "base_uri": "https://localhost:8080/",
     "height": 90
    },
    "id": "kF8oGMm-z0TI",
    "outputId": "151faf69-460c-4aa6-aa86-5aae7f63bfbe"
   },
   "outputs": [
    {
     "data": {
      "text/plain": [
       "0.000000    526\n",
       "0.076975      3\n",
       "0.041283      2\n",
       "Name: Item_Visibility, dtype: int64"
      ]
     },
     "execution_count": 152,
     "metadata": {},
     "output_type": "execute_result"
    }
   ],
   "source": [
    "df1['Item_Visibility'].value_counts().head(3)"
   ]
  },
  {
   "cell_type": "code",
   "execution_count": 153,
   "metadata": {
    "collapsed": true,
    "id": "pKzzDeC0xlei"
   },
   "outputs": [],
   "source": [
    "#The column 'Item_Visibility' has lots of 0 values. Let's fill this values with the mean value\n",
    "df1['Item_Visibility'].mask(df1['Item_Visibility']== 0,df1['Item_Visibility'].mean(),inplace=True)\n",
    "df2['Item_Visibility'].mask(df2['Item_Visibility']== 0,df2['Item_Visibility'].mean(),inplace=True)"
   ]
  },
  {
   "cell_type": "code",
   "execution_count": 154,
   "metadata": {
    "collapsed": true,
    "id": "olWdkDIR11WC"
   },
   "outputs": [],
   "source": [
    "#Let's add a new feature that would have the number of years the outlet has been in operation till 2013. (This dataset is from 2013). \n",
    "def num_years(col):\n",
    "  return 2013-col"
   ]
  },
  {
   "cell_type": "code",
   "execution_count": 155,
   "metadata": {
    "collapsed": true,
    "id": "3-A1COuw1-Hf"
   },
   "outputs": [],
   "source": [
    "df1['Years_of_Operation']=df1['Outlet_Establishment_Year'].apply(num_years)\n",
    "df2['Years_of_Operation']=df2['Outlet_Establishment_Year'].apply(num_years)"
   ]
  },
  {
   "cell_type": "code",
   "execution_count": 156,
   "metadata": {
    "collapsed": true,
    "id": "R9gV1tJmjPAZ"
   },
   "outputs": [],
   "source": [
    "# One hot encoding the categorical variables in both train and test set\n",
    "item_fat_content=pd.get_dummies(df1['Item_Fat_Content'])\n",
    "item_type=pd.get_dummies(df1['Item_Type'])\n",
    "outlet_size=pd.get_dummies(df1['Outlet_Size'])\n",
    "outlet_location_type=pd.get_dummies(df1['Outlet_Location_Type'])\n",
    "output_type=pd.get_dummies(df1['Outlet_Type'])\n",
    "\n",
    "item_fat_content_test=pd.get_dummies(df2['Item_Fat_Content'])\n",
    "item_type_test=pd.get_dummies(df2['Item_Type'])\n",
    "outlet_size_test=pd.get_dummies(df2['Outlet_Size'])\n",
    "outlet_location_type_test=pd.get_dummies(df2['Outlet_Location_Type'])\n",
    "output_type_test=pd.get_dummies(df2['Outlet_Type'])"
   ]
  },
  {
   "cell_type": "code",
   "execution_count": 157,
   "metadata": {
    "collapsed": true,
    "id": "sMgvsYcoopms"
   },
   "outputs": [],
   "source": [
    "train=df1\n",
    "train=pd.concat([train,item_fat_content,item_type,outlet_size,outlet_location_type,output_type],axis=1)\n",
    "train.drop(['Item_Identifier','Item_Fat_Content','Item_Type','Outlet_Identifier','Outlet_Establishment_Year','Outlet_Size', 'Outlet_Location_Type',\n",
    "       'Outlet_Type'],axis=1,inplace=True)\n",
    "test=df2\n",
    "test=pd.concat([test,item_fat_content_test,item_type_test,outlet_size_test,outlet_location_type_test,output_type_test],axis=1)\n",
    "test.drop(['Item_Identifier','Item_Fat_Content','Item_Type','Outlet_Identifier','Outlet_Establishment_Year','Outlet_Size', 'Outlet_Location_Type',\n",
    "       'Outlet_Type'],axis=1,inplace=True)"
   ]
  },
  {
   "cell_type": "code",
   "execution_count": 158,
   "metadata": {
    "collapsed": true,
    "id": "N8FW2ywRb2gv"
   },
   "outputs": [],
   "source": [
    "x=train.drop(['Item_Outlet_Sales'],axis=1)\n",
    "y=train['Item_Outlet_Sales']\n",
    "x_test=test"
   ]
  },
  {
   "cell_type": "code",
   "execution_count": 159,
   "metadata": {
    "id": "V0-tMNTgcjbt"
   },
   "outputs": [
    {
     "name": "stderr",
     "output_type": "stream",
     "text": [
      "C:\\Users\\vaibhav mathur\\Anaconda3\\lib\\site-packages\\sklearn\\preprocessing\\data.py:617: DataConversionWarning: Data with input dtype uint8, int64, float64 were all converted to float64 by StandardScaler.\n",
      "  return self.partial_fit(X, y)\n",
      "C:\\Users\\vaibhav mathur\\Anaconda3\\lib\\site-packages\\sklearn\\base.py:462: DataConversionWarning: Data with input dtype uint8, int64, float64 were all converted to float64 by StandardScaler.\n",
      "  return self.fit(X, **fit_params).transform(X)\n",
      "C:\\Users\\vaibhav mathur\\Anaconda3\\lib\\site-packages\\sklearn\\preprocessing\\data.py:617: DataConversionWarning: Data with input dtype uint8, int64, float64 were all converted to float64 by StandardScaler.\n",
      "  return self.partial_fit(X, y)\n",
      "C:\\Users\\vaibhav mathur\\Anaconda3\\lib\\site-packages\\sklearn\\base.py:462: DataConversionWarning: Data with input dtype uint8, int64, float64 were all converted to float64 by StandardScaler.\n",
      "  return self.fit(X, **fit_params).transform(X)\n"
     ]
    }
   ],
   "source": [
    "#Feature Scaling\n",
    "from sklearn.preprocessing import StandardScaler\n",
    "sc_x=StandardScaler()\n",
    "x=sc_x.fit_transform(x)\n",
    "\n",
    "x_test=sc_x.fit_transform(x_test)"
   ]
  },
  {
   "cell_type": "code",
   "execution_count": 160,
   "metadata": {
    "collapsed": true,
    "id": "XfYyuuW3eIUx"
   },
   "outputs": [],
   "source": [
    "from sklearn.model_selection import train_test_split\n",
    "x_train,x_val,y_train,y_val=train_test_split(x,y,test_size=0.1,random_state=42)"
   ]
  },
  {
   "cell_type": "markdown",
   "metadata": {
    "id": "WdQNLUKBihZ6"
   },
   "source": [
    "## **Linear Regression**"
   ]
  },
  {
   "cell_type": "code",
   "execution_count": 161,
   "metadata": {
    "colab": {
     "base_uri": "https://localhost:8080/",
     "height": 35
    },
    "id": "8RxW9IpIeNbq",
    "outputId": "c1833fde-a809-4727-c976-c9957da9557c"
   },
   "outputs": [
    {
     "data": {
      "text/plain": [
       "LinearRegression(copy_X=True, fit_intercept=True, n_jobs=None,\n",
       "         normalize=False)"
      ]
     },
     "execution_count": 161,
     "metadata": {},
     "output_type": "execute_result"
    }
   ],
   "source": [
    "from sklearn.linear_model import LinearRegression\n",
    "lm=LinearRegression()\n",
    "lm.fit(x_train,y_train)"
   ]
  },
  {
   "cell_type": "code",
   "execution_count": 162,
   "metadata": {
    "collapsed": true,
    "id": "rWYXYx3pfp7i"
   },
   "outputs": [],
   "source": [
    "predictions=lm.predict(x_val)"
   ]
  },
  {
   "cell_type": "code",
   "execution_count": 163,
   "metadata": {
    "colab": {
     "base_uri": "https://localhost:8080/",
     "height": 341
    },
    "id": "wplXJCbnf0sM",
    "outputId": "6f4774fa-2203-451e-ea3a-77dfca3c1737"
   },
   "outputs": [
    {
     "data": {
      "text/plain": [
       "<matplotlib.collections.PathCollection at 0x239566ab1d0>"
      ]
     },
     "execution_count": 163,
     "metadata": {},
     "output_type": "execute_result"
    }
   ],
   "source": [
    "plt.scatter(y_val,predictions)"
   ]
  },
  {
   "cell_type": "code",
   "execution_count": 164,
   "metadata": {
    "colab": {
     "base_uri": "https://localhost:8080/",
     "height": 356
    },
    "id": "2obISphof9j6",
    "outputId": "e5400022-af7e-43cc-a729-7fe841a5981a"
   },
   "outputs": [
    {
     "name": "stderr",
     "output_type": "stream",
     "text": [
      "C:\\Users\\vaibhav mathur\\AppData\\Roaming\\Python\\Python36\\site-packages\\seaborn\\distributions.py:2557: FutureWarning: `distplot` is a deprecated function and will be removed in a future version. Please adapt your code to use either `displot` (a figure-level function with similar flexibility) or `histplot` (an axes-level function for histograms).\n",
      "  warnings.warn(msg, FutureWarning)\n"
     ]
    },
    {
     "data": {
      "text/plain": [
       "<AxesSubplot:title={'center':'Outlet_Type'}, xlabel='Item_Outlet_Sales', ylabel='Frequency'>"
      ]
     },
     "execution_count": 164,
     "metadata": {},
     "output_type": "execute_result"
    }
   ],
   "source": [
    "import seaborn as sns\n",
    "sns.distplot((y_val-predictions))"
   ]
  },
  {
   "cell_type": "code",
   "execution_count": 165,
   "metadata": {
    "colab": {
     "base_uri": "https://localhost:8080/",
     "height": 90
    },
    "id": "sHX4v8rMgNpt",
    "outputId": "786a9cb0-2d2b-4d7a-d5d8-eb8b6f9f0300"
   },
   "outputs": [
    {
     "name": "stdout",
     "output_type": "stream",
     "text": [
      "Mean Absolute Error:  805.1305139306913\n",
      "Mean Squared Error:  1180585.9465899994\n",
      "Root Mean Squared Error:  1086.5477194260725\n",
      "Explained Variance Score:  0.5777538683559473\n"
     ]
    }
   ],
   "source": [
    "import numpy as np\n",
    "from sklearn import metrics\n",
    "print('Mean Absolute Error: ',metrics.mean_absolute_error(y_val,predictions))\n",
    "print('Mean Squared Error: ',metrics.mean_squared_error(y_val,predictions))\n",
    "print('Root Mean Squared Error: ',np.sqrt(metrics.mean_squared_error(y_val,predictions)))\n",
    "print('Explained Variance Score: ',metrics.explained_variance_score(y_val,predictions))"
   ]
  },
  {
   "cell_type": "markdown",
   "metadata": {
    "id": "fesPw1DJocIF"
   },
   "source": [
    "## **Random Forest**"
   ]
  },
  {
   "cell_type": "code",
   "execution_count": 166,
   "metadata": {
    "colab": {
     "base_uri": "https://localhost:8080/",
     "height": 146
    },
    "id": "TnlyidEVjimv",
    "outputId": "e3f55b0e-ee51-45c1-e745-a8e2eed802cf"
   },
   "outputs": [
    {
     "data": {
      "text/plain": [
       "RandomForestRegressor(bootstrap=True, criterion='mse', max_depth=6,\n",
       "           max_features='auto', max_leaf_nodes=None,\n",
       "           min_impurity_decrease=0.0, min_impurity_split=None,\n",
       "           min_samples_leaf=76, min_samples_split=2,\n",
       "           min_weight_fraction_leaf=0.0, n_estimators=400, n_jobs=4,\n",
       "           oob_score=False, random_state=None, verbose=0, warm_start=False)"
      ]
     },
     "execution_count": 166,
     "metadata": {},
     "output_type": "execute_result"
    }
   ],
   "source": [
    "from sklearn.ensemble import RandomForestRegressor\n",
    "rf=RandomForestRegressor(n_estimators=400,max_depth=6, min_samples_leaf=76,n_jobs=4)\n",
    "rf.fit(x_train,y_train)"
   ]
  },
  {
   "cell_type": "code",
   "execution_count": 167,
   "metadata": {
    "collapsed": true,
    "id": "-uiu-eMRjMBZ"
   },
   "outputs": [],
   "source": [
    "predictions1=rf.predict(x_val)"
   ]
  },
  {
   "cell_type": "code",
   "execution_count": 168,
   "metadata": {
    "colab": {
     "base_uri": "https://localhost:8080/",
     "height": 287
    },
    "id": "ubqRLkubjVcu",
    "outputId": "16ea5010-a5c9-4b2d-9709-2f58fd0ee94e"
   },
   "outputs": [
    {
     "data": {
      "text/plain": [
       "<matplotlib.collections.PathCollection at 0x2395672f4a8>"
      ]
     },
     "execution_count": 168,
     "metadata": {},
     "output_type": "execute_result"
    }
   ],
   "source": [
    "plt.scatter(y_val,predictions1)"
   ]
  },
  {
   "cell_type": "code",
   "execution_count": 169,
   "metadata": {
    "colab": {
     "base_uri": "https://localhost:8080/",
     "height": 302
    },
    "id": "sajksrwTjYEj",
    "outputId": "3874b916-fdc9-49c6-d211-dbf347424af8"
   },
   "outputs": [
    {
     "name": "stderr",
     "output_type": "stream",
     "text": [
      "C:\\Users\\vaibhav mathur\\AppData\\Roaming\\Python\\Python36\\site-packages\\seaborn\\distributions.py:2557: FutureWarning: `distplot` is a deprecated function and will be removed in a future version. Please adapt your code to use either `displot` (a figure-level function with similar flexibility) or `histplot` (an axes-level function for histograms).\n",
      "  warnings.warn(msg, FutureWarning)\n"
     ]
    },
    {
     "data": {
      "text/plain": [
       "<AxesSubplot:title={'center':'Outlet_Type'}, xlabel='Item_Outlet_Sales', ylabel='Frequency'>"
      ]
     },
     "execution_count": 169,
     "metadata": {},
     "output_type": "execute_result"
    }
   ],
   "source": [
    "import seaborn as sns\n",
    "sns.distplot((y_val-predictions1))"
   ]
  },
  {
   "cell_type": "code",
   "execution_count": 170,
   "metadata": {
    "colab": {
     "base_uri": "https://localhost:8080/",
     "height": 90
    },
    "id": "xv-VrLlajc4X",
    "outputId": "250da39f-5928-4390-8d58-8c2636e6b54f"
   },
   "outputs": [
    {
     "name": "stdout",
     "output_type": "stream",
     "text": [
      "Mean Absolute Error:  721.2110002959321\n",
      "Mean Squared Error:  1059543.7385254803\n",
      "Root Mean Squared Error:  1029.3414100897137\n",
      "Explained Variance Score:  0.6210318277770772\n"
     ]
    }
   ],
   "source": [
    "import numpy as np\n",
    "from sklearn import metrics\n",
    "print('Mean Absolute Error: ',metrics.mean_absolute_error(y_val,predictions1))\n",
    "print('Mean Squared Error: ',metrics.mean_squared_error(y_val,predictions1))\n",
    "print('Root Mean Squared Error: ',np.sqrt(metrics.mean_squared_error(y_val,predictions1)))\n",
    "print('Explained Variance Score: ',metrics.explained_variance_score(y_val,predictions1))"
   ]
  },
  {
   "cell_type": "code",
   "execution_count": 171,
   "metadata": {
    "colab": {
     "base_uri": "https://localhost:8080/",
     "height": 166
    },
    "id": "I1EeDnSe-zAN",
    "outputId": "b9f63328-1742-49c0-8356-5e9600fd52aa"
   },
   "outputs": [
    {
     "name": "stdout",
     "output_type": "stream",
     "text": [
      "Fitting 10 folds for each of 4 candidates, totalling 40 fits\n"
     ]
    },
    {
     "name": "stderr",
     "output_type": "stream",
     "text": [
      "[Parallel(n_jobs=4)]: Using backend LokyBackend with 4 concurrent workers.\n",
      "C:\\Users\\vaibhav mathur\\Anaconda3\\lib\\site-packages\\sklearn\\externals\\joblib\\numpy_pickle.py:104: DeprecationWarning: tostring() is deprecated. Use tobytes() instead.\n",
      "  pickler.file_handle.write(chunk.tostring('C'))\n",
      "[Parallel(n_jobs=4)]: Done  33 tasks      | elapsed:  2.4min\n",
      "[Parallel(n_jobs=4)]: Done  40 out of  40 | elapsed:  3.0min finished\n"
     ]
    },
    {
     "data": {
      "text/plain": [
       "({'n_estimators': 300}, -797.8507387659275)"
      ]
     },
     "execution_count": 171,
     "metadata": {},
     "output_type": "execute_result"
    }
   ],
   "source": [
    "#Grid Search\n",
    "from sklearn.model_selection import GridSearchCV\n",
    "\n",
    "# Create the parameter grid based on the results of random search \n",
    "param_grid = {\n",
    "    #'bootstrap': [True],\n",
    "    #'max_depth': range(1,15,1),\n",
    "    #'min_samples_leaf': range(70,80,1),\n",
    "    #'min_samples_split': [8, 10, 12],\n",
    "    'n_estimators': range(100,500,100)\n",
    "}\n",
    "\n",
    "# Create a based model\n",
    "rf = RandomForestRegressor()\n",
    "\n",
    "# Instantiate the grid search model\n",
    "grid_search = GridSearchCV(estimator = rf, param_grid = param_grid, \n",
    "                          cv = 10, n_jobs = 4, verbose = 2,scoring='neg_mean_absolute_error')\n",
    "# Fit the grid search to the data\n",
    "grid_search.fit(x, y)\n",
    "\n",
    "grid_search.best_params_,grid_search.best_score_"
   ]
  },
  {
   "cell_type": "markdown",
   "metadata": {
    "id": "P7gRz-DT35T0"
   },
   "source": [
    "## **XGBoost**"
   ]
  },
  {
   "cell_type": "code",
   "execution_count": 172,
   "metadata": {
    "colab": {
     "base_uri": "https://localhost:8080/",
     "height": 219
    },
    "id": "brvTLx3doiVi",
    "outputId": "0383efb7-d067-4e3e-f30d-33ab4d2a0a2c"
   },
   "outputs": [
    {
     "data": {
      "text/plain": [
       "XGBRegressor(base_score=0.5, booster='gbtree', colsample_bylevel=1,\n",
       "       colsample_bytree=0.95, gamma=0, learning_rate=0.1, max_delta_step=0,\n",
       "       max_depth=3, min_child_weight=5, missing=None, n_estimators=41,\n",
       "       n_jobs=1, nthread=4, objective='reg:linear', random_state=0,\n",
       "       reg_alpha=0.021, reg_lambda=1, scale_pos_weight=1, seed=42,\n",
       "       silent=True, subsample=0.75)"
      ]
     },
     "execution_count": 172,
     "metadata": {},
     "output_type": "execute_result"
    }
   ],
   "source": [
    "import xgboost as xgb\n",
    "data_dmatrix = xgb.DMatrix(data=x,label=y)\n",
    "xg_reg = xgb.XGBRegressor(#objective ='reg:squarederror', \n",
    "                          learning_rate =0.1,\n",
    "                          n_estimators=41,\n",
    "                          max_depth=3,\n",
    "                          min_child_weight=5,\n",
    "                          gamma=0,\n",
    "                          subsample=0.75,\n",
    "                          colsample_bytree=0.95,\n",
    "                          nthread=4,\n",
    "                          scale_pos_weight=1,\n",
    "                          reg_alpha=0.021,\n",
    "                          seed=42,\n",
    "                          )\n",
    "xg_reg.fit(x_train,y_train)"
   ]
  },
  {
   "cell_type": "code",
   "execution_count": 173,
   "metadata": {
    "collapsed": true,
    "id": "PvdvsF_tpJoq"
   },
   "outputs": [],
   "source": [
    "predictions2 = xg_reg.predict(x_val)"
   ]
  },
  {
   "cell_type": "code",
   "execution_count": 174,
   "metadata": {
    "colab": {
     "base_uri": "https://localhost:8080/",
     "height": 90
    },
    "id": "0wkc0Z6npVhM",
    "outputId": "bfa160de-9836-41a5-a958-6a869a207a88"
   },
   "outputs": [
    {
     "name": "stdout",
     "output_type": "stream",
     "text": [
      "Mean Absolute Error:  723.864421260577\n",
      "Mean Squared Error:  1062607.8582575077\n",
      "Root Mean Squared Error:  1030.8287240165107\n",
      "Explained Variance Score:  0.620316155542312\n"
     ]
    }
   ],
   "source": [
    "import numpy as np\n",
    "from sklearn import metrics\n",
    "print('Mean Absolute Error: ',metrics.mean_absolute_error(y_val,predictions2))\n",
    "print('Mean Squared Error: ',metrics.mean_squared_error(y_val,predictions2))\n",
    "print('Root Mean Squared Error: ',np.sqrt(metrics.mean_squared_error(y_val,predictions2)))\n",
    "print('Explained Variance Score: ',metrics.explained_variance_score(y_val,predictions2))"
   ]
  },
  {
   "cell_type": "markdown",
   "metadata": {
    "id": "LbJAc6w6i4H3"
   },
   "source": [
    "### **Grid Search for best parameters**"
   ]
  },
  {
   "cell_type": "code",
   "execution_count": 175,
   "metadata": {
    "colab": {
     "base_uri": "https://localhost:8080/",
     "height": 109
    },
    "id": "_MgFvi9cIWhL",
    "outputId": "99237e7a-a8e6-4328-fc3d-07f5f5176d00"
   },
   "outputs": [
    {
     "name": "stderr",
     "output_type": "stream",
     "text": [
      "C:\\Users\\vaibhav mathur\\Anaconda3\\lib\\site-packages\\sklearn\\externals\\joblib\\numpy_pickle.py:104: DeprecationWarning: tostring() is deprecated. Use tobytes() instead.\n",
      "  pickler.file_handle.write(chunk.tostring('C'))\n"
     ]
    },
    {
     "data": {
      "text/plain": [
       "({'max_depth': 3, 'min_child_weight': 4}, -756.4121204416341)"
      ]
     },
     "execution_count": 175,
     "metadata": {},
     "output_type": "execute_result"
    }
   ],
   "source": [
    "from sklearn.model_selection import GridSearchCV\n",
    "  \n",
    "#Tune max_depth and min_child_weight\n",
    "param_test1 = {\n",
    " 'max_depth':range(2,4,1),\n",
    " 'min_child_weight':range(3,6,1)\n",
    "}\n",
    "gsearch1 = GridSearchCV(estimator = xg_reg,\n",
    "                        param_grid = param_test1, \n",
    "                        scoring='neg_mean_absolute_error',\n",
    "                        n_jobs=4,iid=False, cv=10)\n",
    "gsearch1.fit(x,y)\n",
    "gsearch1.best_params_, gsearch1.best_score_"
   ]
  },
  {
   "cell_type": "code",
   "execution_count": 176,
   "metadata": {
    "colab": {
     "base_uri": "https://localhost:8080/",
     "height": 109
    },
    "id": "5fgEZB-wSQHt",
    "outputId": "ad105312-3f61-43f9-a2dc-e43e875d4493"
   },
   "outputs": [
    {
     "name": "stderr",
     "output_type": "stream",
     "text": [
      "C:\\Users\\vaibhav mathur\\Anaconda3\\lib\\site-packages\\sklearn\\externals\\joblib\\numpy_pickle.py:104: DeprecationWarning: tostring() is deprecated. Use tobytes() instead.\n",
      "  pickler.file_handle.write(chunk.tostring('C'))\n"
     ]
    },
    {
     "data": {
      "text/plain": [
       "({'gamma': 0.0}, -756.4434259382344)"
      ]
     },
     "execution_count": 176,
     "metadata": {},
     "output_type": "execute_result"
    }
   ],
   "source": [
    "#Tuning Gamma\n",
    "param_test2 = {\n",
    " 'gamma':[i/10.0 for i in range(0,10)]\n",
    "}\n",
    "gsearch2 = GridSearchCV(estimator = xg_reg,\n",
    "                        param_grid = param_test2, \n",
    "                        scoring='neg_mean_absolute_error',\n",
    "                        n_jobs=4,iid=False, cv=10)\n",
    "\n",
    "gsearch2.fit(x,y)\n",
    "gsearch2.best_params_, gsearch2.best_score_"
   ]
  },
  {
   "cell_type": "code",
   "execution_count": 177,
   "metadata": {
    "colab": {
     "base_uri": "https://localhost:8080/",
     "height": 109
    },
    "id": "bWp925s3W2aL",
    "outputId": "6d938351-4425-4206-8536-c0c48a80853b"
   },
   "outputs": [
    {
     "name": "stderr",
     "output_type": "stream",
     "text": [
      "C:\\Users\\vaibhav mathur\\Anaconda3\\lib\\site-packages\\sklearn\\externals\\joblib\\numpy_pickle.py:104: DeprecationWarning: tostring() is deprecated. Use tobytes() instead.\n",
      "  pickler.file_handle.write(chunk.tostring('C'))\n"
     ]
    },
    {
     "data": {
      "text/plain": [
       "({'colsample_bytree': 0.95, 'subsample': 0.95}, -756.1040588641538)"
      ]
     },
     "execution_count": 177,
     "metadata": {},
     "output_type": "execute_result"
    }
   ],
   "source": [
    "#Tune subsample and colsample_bytree\n",
    "param_test3 = {\n",
    " 'subsample':[i/100.0 for i in range(75,100,5)],\n",
    " 'colsample_bytree':[i/100.0 for i in range(75,100,5)]\n",
    "}\n",
    "\n",
    "gsearch3 = GridSearchCV(estimator = xg_reg,\n",
    "                        param_grid = param_test3, \n",
    "                        scoring='neg_mean_absolute_error',\n",
    "                        n_jobs=4,iid=False, cv=10)\n",
    "gsearch3.fit(x,y)\n",
    "gsearch3.best_params_, gsearch3.best_score_"
   ]
  },
  {
   "cell_type": "code",
   "execution_count": 178,
   "metadata": {
    "colab": {
     "base_uri": "https://localhost:8080/",
     "height": 109
    },
    "id": "6GXU8dJNcZW3",
    "outputId": "a072a483-8c86-46db-e8cd-97ef2f9e2e1a"
   },
   "outputs": [
    {
     "name": "stderr",
     "output_type": "stream",
     "text": [
      "C:\\Users\\vaibhav mathur\\Anaconda3\\lib\\site-packages\\sklearn\\externals\\joblib\\numpy_pickle.py:104: DeprecationWarning: tostring() is deprecated. Use tobytes() instead.\n",
      "  pickler.file_handle.write(chunk.tostring('C'))\n"
     ]
    },
    {
     "data": {
      "text/plain": [
       "({'reg_alpha': 0.016}, -756.4434245754401)"
      ]
     },
     "execution_count": 178,
     "metadata": {},
     "output_type": "execute_result"
    }
   ],
   "source": [
    "# Tuning Regularization Parameters\n",
    "param_test4 = {\n",
    " 'reg_alpha':[0.011,0.012,0.013,0.014,0.015,0.016,0.017,0.018,0.019,0.02,0.021,0.022,0.023,0.24,0.025,0.026]\n",
    "}\n",
    "gsearch4 = GridSearchCV(estimator = xg_reg,\n",
    "                        param_grid = param_test4, \n",
    "                        scoring='neg_mean_absolute_error',\n",
    "                        n_jobs=4,iid=False, cv=10)\n",
    "gsearch4.fit(x,y)\n",
    "gsearch4.best_params_, gsearch4.best_score_"
   ]
  },
  {
   "cell_type": "code",
   "execution_count": 179,
   "metadata": {
    "colab": {
     "base_uri": "https://localhost:8080/",
     "height": 109
    },
    "id": "640MZDzheD69",
    "outputId": "56d750ef-453f-44b5-cbce-c521b56b60af"
   },
   "outputs": [
    {
     "name": "stderr",
     "output_type": "stream",
     "text": [
      "C:\\Users\\vaibhav mathur\\Anaconda3\\lib\\site-packages\\sklearn\\externals\\joblib\\numpy_pickle.py:104: DeprecationWarning: tostring() is deprecated. Use tobytes() instead.\n",
      "  pickler.file_handle.write(chunk.tostring('C'))\n"
     ]
    },
    {
     "data": {
      "text/plain": [
       "({'n_estimators': 42}, -756.4288768771904)"
      ]
     },
     "execution_count": 179,
     "metadata": {},
     "output_type": "execute_result"
    }
   ],
   "source": [
    "# Tuning No. of trees\n",
    "param_test5 = {\n",
    " 'n_estimators':range(30,50,1)\n",
    "}\n",
    "gsearch5 = GridSearchCV(estimator = xg_reg,\n",
    "                        param_grid = param_test5, \n",
    "                        scoring='neg_mean_absolute_error',\n",
    "                        n_jobs=4,iid=False, cv=10)\n",
    "gsearch5.fit(x,y)\n",
    "gsearch5.best_params_, gsearch5.best_score_"
   ]
  },
  {
   "cell_type": "code",
   "execution_count": 180,
   "metadata": {
    "colab": {
     "base_uri": "https://localhost:8080/",
     "height": 350
    },
    "id": "fkAZWNvlsp7F",
    "outputId": "7102a5c5-1d02-4b38-bc5c-ae8253bfb359"
   },
   "outputs": [
    {
     "data": {
      "image/png": "[encoded data removed]",
      "text/plain": [
       "<Figure size 360x360 with 1 Axes>"
      ]
     },
     "metadata": {},
     "output_type": "display_data"
    },
    {
     "data": {
      "image/png": "[encoded data removed]",
      "text/plain": [
       "<Figure size 360x360 with 1 Axes>"
      ]
     },
     "metadata": {},
     "output_type": "display_data"
    }
   ],
   "source": [
    "xgb.plot_importance(xg_reg)\n",
    "plt.rcParams['figure.figsize'] = [5, 5]\n",
    "plt.show()"
   ]
  },
  {
   "cell_type": "code",
   "execution_count": 188,
   "metadata": {
    "collapsed": true,
    "id": "500Y0uuckLdn"
   },
   "outputs": [],
   "source": [
    "#Generating the Sales for the Test set and saving in a .csv file\n",
    "pred_test = xg_reg.predict(x_test)\n",
    "out_df = pd.DataFrame({'Item_Identifier':df2['Item_Identifier'].values,'Outlet_Identifier':df2['Outlet_Identifier'].values})\n",
    "out_df['Item_Outlet_Sales'] = pred_test\n",
    "out_df.to_csv('submission3.csv', index=False)"
   ]
  },
  {
   "cell_type": "code",
   "execution_count": 199,
   "metadata": {},
   "outputs": [
    {
     "data": {
      "text/html": [
       "<div>\n",
       "<style scoped>\n",
       "    .dataframe tbody tr th:only-of-type {\n",
       "        vertical-align: middle;\n",
       "    }\n",
       "\n",
       "    .dataframe tbody tr th {\n",
       "        vertical-align: top;\n",
       "    }\n",
       "\n",
       "    .dataframe thead th {\n",
       "        text-align: right;\n",
       "    }\n",
       "</style>\n",
       "<table border=\"1\" class=\"dataframe\">\n",
       "  <thead>\n",
       "    <tr style=\"text-align: right;\">\n",
       "      <th></th>\n",
       "      <th>Item_Weight</th>\n",
       "      <th>Item_Visibility</th>\n",
       "      <th>Item_MRP</th>\n",
       "      <th>Outlet_Establishment_Year</th>\n",
       "      <th>Item_Outlet_Sales</th>\n",
       "      <th>Years_of_Operation</th>\n",
       "    </tr>\n",
       "  </thead>\n",
       "  <tbody>\n",
       "    <tr>\n",
       "      <th>count</th>\n",
       "      <td>8523.000000</td>\n",
       "      <td>8523.000000</td>\n",
       "      <td>8523.000000</td>\n",
       "      <td>8523.000000</td>\n",
       "      <td>8523.000000</td>\n",
       "      <td>8523.000000</td>\n",
       "    </tr>\n",
       "    <tr>\n",
       "      <th>mean</th>\n",
       "      <td>12.857732</td>\n",
       "      <td>0.070213</td>\n",
       "      <td>140.992782</td>\n",
       "      <td>1997.831867</td>\n",
       "      <td>2181.288914</td>\n",
       "      <td>15.168133</td>\n",
       "    </tr>\n",
       "    <tr>\n",
       "      <th>std</th>\n",
       "      <td>4.232803</td>\n",
       "      <td>0.048742</td>\n",
       "      <td>62.275067</td>\n",
       "      <td>8.371760</td>\n",
       "      <td>1706.499616</td>\n",
       "      <td>8.371760</td>\n",
       "    </tr>\n",
       "    <tr>\n",
       "      <th>min</th>\n",
       "      <td>4.555000</td>\n",
       "      <td>0.003575</td>\n",
       "      <td>31.290000</td>\n",
       "      <td>1985.000000</td>\n",
       "      <td>33.290000</td>\n",
       "      <td>4.000000</td>\n",
       "    </tr>\n",
       "    <tr>\n",
       "      <th>25%</th>\n",
       "      <td>9.310000</td>\n",
       "      <td>0.033085</td>\n",
       "      <td>93.826500</td>\n",
       "      <td>1987.000000</td>\n",
       "      <td>834.247400</td>\n",
       "      <td>9.000000</td>\n",
       "    </tr>\n",
       "    <tr>\n",
       "      <th>50%</th>\n",
       "      <td>12.867061</td>\n",
       "      <td>0.062517</td>\n",
       "      <td>143.012800</td>\n",
       "      <td>1999.000000</td>\n",
       "      <td>1794.331000</td>\n",
       "      <td>14.000000</td>\n",
       "    </tr>\n",
       "    <tr>\n",
       "      <th>75%</th>\n",
       "      <td>16.000000</td>\n",
       "      <td>0.094585</td>\n",
       "      <td>185.643700</td>\n",
       "      <td>2004.000000</td>\n",
       "      <td>3101.296400</td>\n",
       "      <td>26.000000</td>\n",
       "    </tr>\n",
       "    <tr>\n",
       "      <th>max</th>\n",
       "      <td>21.350000</td>\n",
       "      <td>0.328391</td>\n",
       "      <td>266.888400</td>\n",
       "      <td>2009.000000</td>\n",
       "      <td>13086.964800</td>\n",
       "      <td>28.000000</td>\n",
       "    </tr>\n",
       "  </tbody>\n",
       "</table>\n",
       "</div>"
      ],
      "text/plain": [
       "       Item_Weight  Item_Visibility     Item_MRP  Outlet_Establishment_Year  \\\n",
       "count  8523.000000      8523.000000  8523.000000                8523.000000   \n",
       "mean     12.857732         0.070213   140.992782                1997.831867   \n",
       "std       4.232803         0.048742    62.275067                   8.371760   \n",
       "min       4.555000         0.003575    31.290000                1985.000000   \n",
       "25%       9.310000         0.033085    93.826500                1987.000000   \n",
       "50%      12.867061         0.062517   143.012800                1999.000000   \n",
       "75%      16.000000         0.094585   185.643700                2004.000000   \n",
       "max      21.350000         0.328391   266.888400                2009.000000   \n",
       "\n",
       "       Item_Outlet_Sales  Years_of_Operation  \n",
       "count        8523.000000         8523.000000  \n",
       "mean         2181.288914           15.168133  \n",
       "std          1706.499616            8.371760  \n",
       "min            33.290000            4.000000  \n",
       "25%           834.247400            9.000000  \n",
       "50%          1794.331000           14.000000  \n",
       "75%          3101.296400           26.000000  \n",
       "max         13086.964800           28.000000  "
      ]
     },
     "execution_count": 199,
     "metadata": {},
     "output_type": "execute_result"
    }
   ],
   "source": [
    "df1.describe()"
   ]
  },
  {
   "cell_type": "code",
   "execution_count": null,
   "metadata": {
    "collapsed": true
   },
   "outputs": [],
   "source": []
  }
 ],
 "metadata": {
  "accelerator": "GPU",
  "colab": {
   "collapsed_sections": [],
   "name": "Copy of  Big Mart Sales Prediction.ipynb",
   "provenance": []
  },
  "kernelspec": {
   "display_name": "Python 3",
   "language": "python",
   "name": "python3"
  },
  "language_info": {
   "codemirror_mode": {
    "name": "ipython",
    "version": 3
   },
   "file_extension": ".py",
   "mimetype": "text/x-python",
   "name": "python",
   "nbconvert_exporter": "python",
   "pygments_lexer": "ipython3",
   "version": "3.6.7"
  }
 },
 "nbformat": 4,
 "nbformat_minor": 1
}
